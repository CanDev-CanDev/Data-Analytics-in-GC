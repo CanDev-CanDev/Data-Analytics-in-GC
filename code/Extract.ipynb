{
 "cells": [
  {
   "cell_type": "code",
   "execution_count": 1,
   "metadata": {},
   "outputs": [],
   "source": [
    "import pandas as pd\n",
    "import requests \n",
    "from bs4 import BeautifulSoup"
   ]
  },
  {
   "cell_type": "code",
   "execution_count": 17,
   "metadata": {},
   "outputs": [],
   "source": [
    "urls = []\n",
    "years = []\n",
    "years.append(2012)\n",
    "urls.append('https://budget.gc.ca/2012/plan/toc-tdm-eng.html')\n",
    "years.append(2013)\n",
    "urls.append('https://budget.gc.ca/2013/doc/plan/toc-tdm-eng.html')\n",
    "years.append(2014)\n",
    "urls.append('https://budget.gc.ca/2014/docs/plan/toc-tdm-eng.html')\n",
    "years.append(2015)\n",
    "urls.append('htps://budget.gc.ca/2015/home-accueil-eng.html')\n",
    "years.append(2016)\n",
    "urls.append('https://www.budget.gc.ca/2016/docs/plan/toc-tdm-en.html')\n",
    "years.append(2017)\n",
    "urls.append('https://www.budget.gc.ca/2017/docs/plan/toc-tdm-en.html')\n",
    "years.append(2018)\n",
    "urls.append('https://www.budget.gc.ca/2018/docs/plan/toc-tdm-en.html')\n",
    "content = pd.DataFrame(urls,years)"
   ]
  },
  {
   "cell_type": "code",
   "execution_count": 18,
   "metadata": {},
   "outputs": [
    {
     "data": {
      "text/html": [
       "<div>\n",
       "<style scoped>\n",
       "    .dataframe tbody tr th:only-of-type {\n",
       "        vertical-align: middle;\n",
       "    }\n",
       "\n",
       "    .dataframe tbody tr th {\n",
       "        vertical-align: top;\n",
       "    }\n",
       "\n",
       "    .dataframe thead th {\n",
       "        text-align: right;\n",
       "    }\n",
       "</style>\n",
       "<table border=\"1\" class=\"dataframe\">\n",
       "  <thead>\n",
       "    <tr style=\"text-align: right;\">\n",
       "      <th></th>\n",
       "      <th>0</th>\n",
       "    </tr>\n",
       "  </thead>\n",
       "  <tbody>\n",
       "    <tr>\n",
       "      <th>2012</th>\n",
       "      <td>https://budget.gc.ca/2012/plan/toc-tdm-eng.html</td>\n",
       "    </tr>\n",
       "    <tr>\n",
       "      <th>2013</th>\n",
       "      <td>https://budget.gc.ca/2013/doc/plan/toc-tdm-eng...</td>\n",
       "    </tr>\n",
       "    <tr>\n",
       "      <th>2014</th>\n",
       "      <td>https://budget.gc.ca/2014/docs/plan/toc-tdm-en...</td>\n",
       "    </tr>\n",
       "    <tr>\n",
       "      <th>2015</th>\n",
       "      <td>htps://budget.gc.ca/2015/home-accueil-eng.html</td>\n",
       "    </tr>\n",
       "    <tr>\n",
       "      <th>2016</th>\n",
       "      <td>https://www.budget.gc.ca/2016/docs/plan/toc-td...</td>\n",
       "    </tr>\n",
       "    <tr>\n",
       "      <th>2017</th>\n",
       "      <td>https://www.budget.gc.ca/2017/docs/plan/toc-td...</td>\n",
       "    </tr>\n",
       "    <tr>\n",
       "      <th>2018</th>\n",
       "      <td>https://www.budget.gc.ca/2018/docs/plan/toc-td...</td>\n",
       "    </tr>\n",
       "  </tbody>\n",
       "</table>\n",
       "</div>"
      ],
      "text/plain": [
       "                                                      0\n",
       "2012    https://budget.gc.ca/2012/plan/toc-tdm-eng.html\n",
       "2013  https://budget.gc.ca/2013/doc/plan/toc-tdm-eng...\n",
       "2014  https://budget.gc.ca/2014/docs/plan/toc-tdm-en...\n",
       "2015     htps://budget.gc.ca/2015/home-accueil-eng.html\n",
       "2016  https://www.budget.gc.ca/2016/docs/plan/toc-td...\n",
       "2017  https://www.budget.gc.ca/2017/docs/plan/toc-td...\n",
       "2018  https://www.budget.gc.ca/2018/docs/plan/toc-td..."
      ]
     },
     "execution_count": 18,
     "metadata": {},
     "output_type": "execute_result"
    }
   ],
   "source": [
    "content"
   ]
  },
  {
   "cell_type": "code",
   "execution_count": null,
   "metadata": {},
   "outputs": [],
   "source": [
    "def extract(url=''):\n",
    "    import requests\n",
    "    a=requests.get(url)\n",
    "    soup=BeautifulSoup(a.content,'html.parser')"
   ]
  },
  {
   "cell_type": "code",
   "execution_count": 7,
   "metadata": {},
   "outputs": [],
   "source": [
    "extract"
   ]
  },
  {
   "cell_type": "code",
   "execution_count": null,
   "metadata": {},
   "outputs": [],
   "source": []
  }
 ],
 "metadata": {
  "kernelspec": {
   "display_name": "Python 3",
   "language": "python",
   "name": "python3"
  },
  "language_info": {
   "codemirror_mode": {
    "name": "ipython",
    "version": 3
   },
   "file_extension": ".py",
   "mimetype": "text/x-python",
   "name": "python",
   "nbconvert_exporter": "python",
   "pygments_lexer": "ipython3",
   "version": "3.5.5"
  }
 },
 "nbformat": 4,
 "nbformat_minor": 2
}
