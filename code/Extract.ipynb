{
 "cells": [
  {
   "cell_type": "code",
   "execution_count": 3,
   "metadata": {},
   "outputs": [],
   "source": [
    "import pandas as pd\n",
    "import requests \n",
    "from bs4 import BeautifulSoup\n"
   ]
  },
  {
   "cell_type": "code",
   "execution_count": 1,
   "metadata": {},
   "outputs": [
    {
     "data": {
      "text/plain": [
       "<function append>"
      ]
     },
     "execution_count": 1,
     "metadata": {},
     "output_type": "execute_result"
    }
   ],
   "source": [
    "urls = []\n",
    "urls.append "
   ]
  },
  {
   "cell_type": "code",
   "execution_count": null,
   "metadata": {},
   "outputs": [],
   "source": []
  },
  {
   "cell_type": "code",
   "execution_count": null,
   "metadata": {},
   "outputs": [],
   "source": [
    "\n",
    "[2012](https://budget.gc.ca/2012/plan/toc-tdm-eng.html)\n",
    "[2013](https://budget.gc.ca/2013/doc/plan/toc-tdm-eng.html)\n",
    "[2014](https://budget.gc.ca/2014/docs/plan/toc-tdm-eng.html)\n",
    "[2015](https://budget.gc.ca/2015/home-accueil-eng.html)\n",
    "[2016](https://www.budget.gc.ca/2016/docs/plan/toc-tdm-en.html)\n",
    "[2017](https://www.budget.gc.ca/2017/docs/plan/toc-tdm-en.html)\n",
    "[2018](https://www.budget.gc.ca/2018/docs/plan/toc-tdm-en.html)"
   ]
  }
 ],
 "metadata": {
  "kernelspec": {
   "display_name": "Python (myenv)",
   "language": "python",
   "name": "myenv"
  },
  "language_info": {
   "codemirror_mode": {
    "name": "ipython",
    "version": 2
   },
   "file_extension": ".py",
   "mimetype": "text/x-python",
   "name": "python",
   "nbconvert_exporter": "python",
   "pygments_lexer": "ipython2",
   "version": "2.7.15rc1"
  }
 },
 "nbformat": 4,
 "nbformat_minor": 2
}
