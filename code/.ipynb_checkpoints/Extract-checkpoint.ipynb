{
 "cells": [
  {
   "cell_type": "code",
   "execution_count": 1,
   "metadata": {},
   "outputs": [],
   "source": [
    "import pandas as pd\n",
    "import requests \n",
    "from bs4 import BeautifulSoup"
   ]
  },
  {
   "cell_type": "code",
   "execution_count": 1,
   "metadata": {},
   "outputs": [
    {
     "data": {
      "text/plain": [
       "<function append>"
      ]
     },
     "execution_count": 1,
     "metadata": {},
     "output_type": "execute_result"
    }
   ],
   "source": [
    "urls = []\n",
    "years = []"
   ]
  },
  {
   "cell_type": "code",
   "execution_count": null,
   "metadata": {},
   "outputs": [],
   "source": [
    "years.append(2012)\n",
    "urls.append('https://budget.gc.ca/2012/plan/toc-tdm-eng.html')\n",
    "years.append(2013)\n",
    "urls.append('https://budget.gc.ca/2013/doc/plan/toc-tdm-eng.html')\n",
    "years.append(2014)\n",
    "urls.append('https://budget.gc.ca/2014/docs/plan/toc-tdm-eng.html')\n",
    "years.append(2015)\n",
    "urls.append('htps://budget.gc.ca/2015/home-accueil-eng.html')\n",
    "years.append(2016)\n",
    "urls.append('https://www.budget.gc.ca/2016/docs/plan/toc-tdm-en.html')\n",
    "years.append(2017)\n",
    "urls.append('https://www.budget.gc.ca/2017/docs/plan/toc-tdm-en.html')\n",
    "years.append(2018)\n",
    "urls.append('https://www.budget.gc.ca/2018/docs/plan/toc-tdm-en.html')"
   ]
  },
  {
   "cell_type": "code",
   "execution_count": null,
   "metadata": {},
   "outputs": [],
   "source": [
    "def extract(url=''):\n",
    "    import requests\n",
    "    a=requests.get(url)\n",
    "    soup=BeautifulSoup(a.content,'html.parser')"
   ]
  },
  {
   "cell_type": "code",
   "execution_count": 7,
   "metadata": {},
   "outputs": [],
   "source": [
    "soup = BeautifulSoup(a.content,'html.parser')"
   ]
  },
  {
   "cell_type": "code",
   "execution_count": null,
   "metadata": {},
   "outputs": [],
   "source": []
  }
 ],
 "metadata": {
  "kernelspec": {
   "display_name": "Python 3",
   "language": "python",
   "name": "python3"
  },
  "language_info": {
   "codemirror_mode": {
    "name": "ipython",
    "version": 3
   },
   "file_extension": ".py",
   "mimetype": "text/x-python",
   "name": "python",
   "nbconvert_exporter": "python",
   "pygments_lexer": "ipython3",
   "version": "3.5.5"
  }
 },
 "nbformat": 4,
 "nbformat_minor": 2
}
